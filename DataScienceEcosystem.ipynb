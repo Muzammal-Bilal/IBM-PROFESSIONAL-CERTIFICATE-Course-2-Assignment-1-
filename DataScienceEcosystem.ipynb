{
  "nbformat": 4,
  "nbformat_minor": 0,
  "metadata": {
    "colab": {
      "provenance": []
    },
    "kernelspec": {
      "name": "python3",
      "display_name": "Python 3"
    },
    "language_info": {
      "name": "python"
    }
  },
  "cells": [
    {
      "cell_type": "markdown",
      "source": [
        "#Data Science Tools and Ecosystem\n",
        "\n"
      ],
      "metadata": {
        "id": "UlV7IpSdpU7q"
      }
    },
    {
      "cell_type": "markdown",
      "source": [
        "# Introduction\n",
        "In this notebook, Data Science Tools and Ecosystem are summarized.\n",
        "\n",
        "\n"
      ],
      "metadata": {
        "id": "-53_2S1UqZZg"
      }
    },
    {
      "cell_type": "markdown",
      "source": [
        "# Objectives\n",
        "\n",
        "**Objectives:**\n",
        "- List popular languages for Data Science\n",
        "- Identify commonly used libraries in Data Science\n",
        "- Explore Data Science tools\n",
        "- Demonstrate arithmetic expressions in Python\n",
        "- Understand basic concepts of Data Science\n"
      ],
      "metadata": {
        "id": "QxRjpZ6VuWoz"
      }
    },
    {
      "cell_type": "markdown",
      "source": [
        "# Data Science Languages\n",
        "\n",
        "## Some of the popular languages that Data Scientists use are:\n",
        "1. Python\n",
        "2. R\n",
        "3. SQL\n",
        "4. Julia\n",
        "5. Scala\n"
      ],
      "metadata": {
        "id": "zc2OVy_IrDjI"
      }
    },
    {
      "cell_type": "code",
      "source": [],
      "metadata": {
        "id": "cnBD906YqhPy"
      },
      "execution_count": null,
      "outputs": []
    },
    {
      "cell_type": "markdown",
      "source": [
        "# Data Science Libraries\n",
        "\n",
        "## Some of the commonly used libraries used by Data Scientists include:\n",
        "1. NumPy\n",
        "2. Pandas\n",
        "3. Matplotlib\n",
        "4. Scikit-learn\n",
        "5. TensorFlow\n"
      ],
      "metadata": {
        "id": "GPnda8HArjeg"
      }
    },
    {
      "cell_type": "markdown",
      "source": [
        "# Data Science Tools\n",
        "\n",
        "## Data Science Tools\n",
        "| Data Science Tools |\n",
        "|--------------------|\n",
        "| Jupyter Notebook  |\n",
        "| RStudio          |\n",
        "| VS Code         |\n"
      ],
      "metadata": {
        "id": "SzbWtstDsC5B"
      }
    },
    {
      "cell_type": "markdown",
      "source": [
        "# Arithmetic Expression Examples\n",
        "\n",
        "### Below are a few examples of evaluating arithmetic expressions in Python.\n"
      ],
      "metadata": {
        "id": "deOu5SIYsdNM"
      }
    },
    {
      "cell_type": "code",
      "source": [
        "(3*4)+5"
      ],
      "metadata": {
        "colab": {
          "base_uri": "https://localhost:8080/"
        },
        "id": "S9iAGqzushd5",
        "outputId": "ed678e0a-d131-4a6e-93f1-5b269f955204"
      },
      "execution_count": 1,
      "outputs": [
        {
          "output_type": "execute_result",
          "data": {
            "text/plain": [
              "17"
            ]
          },
          "metadata": {},
          "execution_count": 1
        }
      ]
    },
    {
      "cell_type": "code",
      "source": [
        "200/60\n",
        "#This will convert 200 minutes to hours by diving by 60"
      ],
      "metadata": {
        "colab": {
          "base_uri": "https://localhost:8080/"
        },
        "id": "Qx5ywYY2ss3X",
        "outputId": "ccb80e6f-340f-4cb6-f705-d789df32d547"
      },
      "execution_count": 2,
      "outputs": [
        {
          "output_type": "execute_result",
          "data": {
            "text/plain": [
              "3.3333333333333335"
            ]
          },
          "metadata": {},
          "execution_count": 2
        }
      ]
    },
    {
      "cell_type": "markdown",
      "source": [
        "# Author\n",
        "\n",
        "## Author\n",
        "MUZAMMAL BILAL\n"
      ],
      "metadata": {
        "id": "rFpjMS7Ju_3r"
      }
    },
    {
      "cell_type": "code",
      "source": [],
      "metadata": {
        "id": "ErJ87ivNtEJ7"
      },
      "execution_count": null,
      "outputs": []
    }
  ]
}